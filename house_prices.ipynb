{
 "cells": [
  {
   "cell_type": "code",
   "execution_count": 1,
   "id": "98999ecf",
   "metadata": {},
   "outputs": [
    {
     "name": "stdout",
     "output_type": "stream",
     "text": [
      "Test MAE for fold 1: 19,213\n",
      "Test MAE for fold 2: 20,193\n",
      "Test MAE for fold 3: 19,617\n",
      "Test MAE for fold 4: 17,386\n",
      "\n",
      "Cross Validation MAE results: 19,103 +/- 1,050\n"
     ]
    }
   ],
   "source": [
    "import pandas as pd\n",
    "import numpy as np\n",
    "from sklearn.ensemble import RandomForestRegressor\n",
    "from sklearn.metrics import mean_absolute_error\n",
    "from sklearn.model_selection import KFold\n",
    "\n",
    "filename = './data/train.csv'\n",
    "home_data = pd.read_csv(filename)\n",
    "\n",
    "features = ['LotArea', 'YearBuilt', '1stFlrSF', '2ndFlrSF', 'FullBath', 'BedroomAbvGr', 'TotRmsAbvGrd']\n",
    "\n",
    "features = [\n",
    "    'MSSubClass',\n",
    "    'LotArea',\n",
    "    'OverallQual',\n",
    "    'OverallCond',\n",
    "    'YearBuilt',\n",
    "    'YearRemodAdd',\n",
    "    '1stFlrSF',\n",
    "    '2ndFlrSF',\n",
    "    'LowQualFinSF',\n",
    "    'GrLivArea',\n",
    "    'FullBath',\n",
    "    'HalfBath',\n",
    "    'BedroomAbvGr',\n",
    "    'KitchenAbvGr',\n",
    "    'TotRmsAbvGrd',\n",
    "    'Fireplaces',\n",
    "    'WoodDeckSF',\n",
    "    'OpenPorchSF',\n",
    "    'EnclosedPorch',\n",
    "    '3SsnPorch',\n",
    "    'ScreenPorch',\n",
    "    'PoolArea',\n",
    "    'MiscVal',\n",
    "    'MoSold',\n",
    "    'YrSold'    \n",
    "]\n",
    "\n",
    "X = home_data[features].values\n",
    "y = home_data.SalePrice.values\n",
    "\n",
    "kf = KFold(n_splits=4, shuffle=True, random_state=42)\n",
    "\n",
    "cv_mae = list()\n",
    "\n",
    "for train_index, test_index in kf.split(X):\n",
    "    X_train, X_test = X[train_index], X[test_index]\n",
    "    y_train, y_test = y[train_index], y[test_index]\n",
    "\n",
    "    model = RandomForestRegressor(random_state=42)\n",
    "    model.fit(X_train, y_train)\n",
    "    \n",
    "    preds = model.predict(X_test)\n",
    "    cv_mae.append(mean_absolute_error(preds, y_test))\n",
    "\n",
    "    print(\"Test MAE for fold {:,}: {:,.0f}\".format(len(cv_mae), cv_mae[len(cv_mae) - 1]))\n",
    "    \n",
    "print(f'\\nCross Validation MAE results: {np.array(cv_mae).mean():,.0f} +/- {np.array(cv_mae).std():,.0f}')"
   ]
  },
  {
   "cell_type": "code",
   "execution_count": 2,
   "id": "ad8f80d6",
   "metadata": {},
   "outputs": [],
   "source": [
    "# -------------------------------------------------- #\n",
    "# Creation of submission file\n",
    "# -------------------------------------------------- #\n",
    "\n",
    "filename = './data/test.csv'\n",
    "submission_data = pd.read_csv(filename)\n",
    "\n",
    "model = RandomForestRegressor(random_state=42)\n",
    "model.fit(X, y)\n",
    "\n",
    "preds = model.predict(submission_data[features].values)\n",
    "\n",
    "output = pd.DataFrame({'Id': submission_data.Id,\n",
    "                       'SalePrice': preds})\n",
    "\n",
    "output.to_csv('./data/submission.csv', index=False)"
   ]
  },
  {
   "cell_type": "code",
   "execution_count": null,
   "id": "4aa5af23",
   "metadata": {},
   "outputs": [],
   "source": []
  }
 ],
 "metadata": {
  "kernelspec": {
   "display_name": "Python 3 (ipykernel)",
   "language": "python",
   "name": "python3"
  },
  "language_info": {
   "codemirror_mode": {
    "name": "ipython",
    "version": 3
   },
   "file_extension": ".py",
   "mimetype": "text/x-python",
   "name": "python",
   "nbconvert_exporter": "python",
   "pygments_lexer": "ipython3",
   "version": "3.9.12"
  }
 },
 "nbformat": 4,
 "nbformat_minor": 5
}
